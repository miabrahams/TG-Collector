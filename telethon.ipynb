{
 "cells": [
  {
   "cell_type": "code",
   "execution_count": null,
   "metadata": {},
   "outputs": [],
   "source": [
    "from telethon import TelegramClient\n",
    "import telethon\n",
    "from telethon import functions, types\n",
    "from telethon.tl import types as tltypes\n",
    "from dotenv import load_dotenv\n",
    "import os\n",
    "from pprint import pprint\n",
    "\n",
    "load_dotenv()  # take environment variables from .env.\n",
    "api_id = os.environ['TG_API_ID']\n",
    "api_hash = os.environ['TG_API_HASH']\n",
    "phone = os.environ['TG_PHONE']\n",
    "username = 'Hex'\n",
    "client = TelegramClient(username, api_id, api_hash)\n"
   ]
  },
  {
   "cell_type": "code",
   "execution_count": null,
   "metadata": {},
   "outputs": [],
   "source": [
    "\n",
    "async def main():\n",
    "    # Getting information about yourself\n",
    "    me = await client.get_me()\n",
    "\n",
    "    # \"me\" is a user object. You can pretty-print\n",
    "    # any Telegram object with the \"stringify\" method:\n",
    "    print(me.stringify())\n",
    "\n",
    "    # When you print something, you see a representation of it.\n",
    "    # You can access all attributes of Telegram objects with\n",
    "    # the dot operator. For example, to get the username:\n",
    "    username = me.username\n",
    "    print(username)\n",
    "    print(me.phone)\n",
    "\n",
    "    # You can print all the dialogs/conversations that you are part of:\n",
    "    # async for dialog in client.iter_dialogs():\n",
    "    #     print(dialog.name, 'has ID', dialog.id)\n",
    "\n",
    "    # You can send messages to yourself...\n",
    "    await client.send_message('me', f'Hello, {username}!')\n",
    "    # ...to some chat ID\n",
    "    # await client.send_message(-100123456, 'Hello, group!')\n",
    "    # ...to your contacts\n",
    "    # await client.send_message('+34600123123', 'Hello, friend!')\n",
    "    # ...or even to any username\n",
    "    # await client.send_message('username', 'Testing Telethon!')\n",
    "\n",
    "    # You can, of course, use markdown in your messages:\n",
    "    message = await client.send_message(\n",
    "        'me',\n",
    "        'This message has **bold**, `code`, __italics__ and '\n",
    "        'a [nice website](https://example.com)!',\n",
    "        link_preview=False\n",
    "    )\n",
    "\n",
    "    # Sending a message returns the sent message object, which you can use\n",
    "    print(message.raw_text)\n",
    "\n",
    "    # You can reply to messages directly if you have a message object\n",
    "    await message.reply('Cool!')\n",
    "\n",
    "    # Or send files, songs, documents, albums...\n",
    "    # await client.send_file('me', '/home/me/Pictures/holidays.jpg')\n",
    "\n",
    "    # You can print the message history of any chat:\n",
    "    async for message in client.iter_messages('me', limit=10):\n",
    "        print(message.id, message.text)\n",
    "\n",
    "        # You can download media from messages, too!\n",
    "        # The method will return the path where the file was saved.\n",
    "        \"\"\"\n",
    "        if message.photo:\n",
    "            path = await message.download_media()\n",
    "            print('File saved to', path)  # printed after download is done\n",
    "        \"\"\"\n",
    "\n",
    "async with client:\n",
    "    await main()"
   ]
  },
  {
   "cell_type": "code",
   "execution_count": null,
   "metadata": {},
   "outputs": [],
   "source": [
    "await client.connect()"
   ]
  },
  {
   "cell_type": "code",
   "execution_count": null,
   "metadata": {},
   "outputs": [],
   "source": [
    "\n",
    "dialogs = await client.get_dialogs()"
   ]
  },
  {
   "cell_type": "code",
   "execution_count": null,
   "metadata": {},
   "outputs": [],
   "source": [
    "filtered = filter(lambda dialog: dialog.name.find('Jeremy') > -1, dialogs)\n",
    "f: telethon.tl.custom.dialog.Dialog = next(filtered)"
   ]
  },
  {
   "cell_type": "code",
   "execution_count": null,
   "metadata": {},
   "outputs": [],
   "source": [
    "last_messages = await client.get_messages(f, limit=20)\n",
    "[print(m) for m in last_messages]\n",
    "\n",
    "# await client.delete_messages(f, [127462], revoke=True)"
   ]
  },
  {
   "cell_type": "code",
   "execution_count": null,
   "metadata": {},
   "outputs": [],
   "source": []
  },
  {
   "cell_type": "code",
   "execution_count": null,
   "metadata": {},
   "outputs": [],
   "source": [
    "chatFolders: tltypes.messages.DialogFilters = await client(functions.messages.GetDialogFiltersRequest())\n",
    "print(chatFolders.stringify())"
   ]
  },
  {
   "cell_type": "code",
   "execution_count": null,
   "metadata": {},
   "outputs": [],
   "source": [
    "mediaFolder = None\n",
    "for folder in chatFolders.filters:\n",
    "    if not hasattr(folder, 'title'):\n",
    "        continue\n",
    "    if folder.title == 'MediaView':\n",
    "        print(folder)\n",
    "        mediaFolder = folder\n",
    "        break"
   ]
  },
  {
   "cell_type": "code",
   "execution_count": null,
   "metadata": {},
   "outputs": [],
   "source": [
    "target_channels = [channel.channel_id for channel in mediaFolder.include_peers]"
   ]
  },
  {
   "cell_type": "code",
   "execution_count": null,
   "metadata": {},
   "outputs": [],
   "source": [
    "for channel in target_channels:\n",
    "    print(channel)"
   ]
  },
  {
   "cell_type": "code",
   "execution_count": null,
   "metadata": {},
   "outputs": [],
   "source": [
    "\n",
    "for channel_id in target_channels[0:2]:\n",
    "    async for message in client.iter_messages(channel_id, limit=5):\n",
    "        print(message)"
   ]
  },
  {
   "cell_type": "code",
   "execution_count": null,
   "metadata": {},
   "outputs": [],
   "source": [
    "await client.disconnect()"
   ]
  }
 ],
 "metadata": {
  "kernelspec": {
   "display_name": "base311",
   "language": "python",
   "name": "python3"
  },
  "language_info": {
   "codemirror_mode": {
    "name": "ipython",
    "version": 3
   },
   "file_extension": ".py",
   "mimetype": "text/x-python",
   "name": "python",
   "nbconvert_exporter": "python",
   "pygments_lexer": "ipython3",
   "version": "3.11.9"
  }
 },
 "nbformat": 4,
 "nbformat_minor": 2
}
