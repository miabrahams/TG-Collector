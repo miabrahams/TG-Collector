{
 "cells": [
  {
   "cell_type": "code",
   "execution_count": null,
   "metadata": {},
   "outputs": [],
   "source": [
    "\n",
    "from sqlmodel import Session, create_engine, text, SQLModel, select, update, delete\n",
    "import os\n",
    "from dotenv import load_dotenv\n",
    "\n",
    "load_dotenv()\n",
    "\n",
    "# Paths\n",
    "MEDIA_PATH = os.path.join('../', os.getenv('MEDIA_PATH'))\n",
    "DB_PATH = os.path.join('../', os.getenv('DB_PATH'))\n",
    "engine = create_engine(f\"sqlite:///{DB_PATH}\")\n",
    "\n",
    "print(MEDIA_PATH)\n",
    "print(DB_PATH)\n",
    "\n"
   ]
  },
  {
   "cell_type": "code",
   "execution_count": null,
   "metadata": {},
   "outputs": [],
   "source": [
    "\n",
    "def update_table():\n",
    "    with Session(engine) as session:\n",
    "        session.exec(text(\"ALTER TABLE media_items ADD COLUMN user_deleted BOOLEAN DEFAULT false\"))\n",
    "        session.commit()\n"
   ]
  },
  {
   "cell_type": "code",
   "execution_count": null,
   "metadata": {},
   "outputs": [],
   "source": [
    "\n",
    "def fix_extension_types():\n",
    "    with Session(engine) as session:\n",
    "        media_items = session.exec(select(MediaItem)).all()\n",
    "        updated_count = 0\n",
    "        for item in media_items:\n",
    "            extension = os.path.splitext(item.file_name)[1]\n",
    "            if extension in ['mp4', 'webm'] and item.type != 'video':\n",
    "                item.type = 'video'\n",
    "                updated_count += 1\n",
    "                print(f\"Updated entry {item.id}: {item.file_name} from {item.type} to video\")\n",
    "\n",
    "            file_path = os.path.join(MEDIA_PATH, item.file_name)\n",
    "            if os.path.exists(file_path):\n",
    "                _, file_extension = os.path.splitext(file_path)\n",
    "                if file_extension.lower() != '.mp4' and item.type == 'video':\n",
    "                    new_file_name = f\"{os.path.splitext(item.file_name)[0]}.mp4\"\n",
    "                    new_file_path = os.path.join(MEDIA_PATH, new_file_name)\n",
    "                    os.rename(file_path, new_file_path)\n",
    "                    item.file_name = new_file_name\n",
    "                    item.url = f'/media/{new_file_name}'\n",
    "                    updated_count += 1\n",
    "                    print(f\"Renamed file and updated entry {item.id}: {item.file_name} to {new_file_name}\")\n",
    "\n",
    "        session.commit()\n",
    "        print(f\"Updated {updated_count} entries\")\n"
   ]
  },
  {
   "cell_type": "code",
   "execution_count": null,
   "metadata": {},
   "outputs": [],
   "source": [
    "\n",
    "def set_viewed_true():\n",
    "    with Session(engine) as session:\n",
    "        session.exec(update(MediaItem).values(seen=True))\n",
    "        session.commit()\n"
   ]
  },
  {
   "cell_type": "code",
   "execution_count": null,
   "metadata": {},
   "outputs": [],
   "source": [
    "def mark_files_deleted():\n",
    "    with Session(engine) as session:\n",
    "        query = select(MediaItem).where(MediaItem.user_deleted == False)\n",
    "        updated_count = 0\n",
    "        for item in session.exec(query):\n",
    "            target_file = os.path.join(MEDIA_PATH, item.file_name)\n",
    "            if not os.path.exists(target_file):\n",
    "                item.user_deleted = True\n",
    "                updated_count += 1\n",
    "                print(f\"Missing entry {item.id} - file {item.file_name}\")\n",
    "        session.commit()\n",
    "        print(f\"Updated {updated_count} entries\")\n"
   ]
  },
  {
   "cell_type": "code",
   "execution_count": null,
   "metadata": {},
   "outputs": [],
   "source": [
    "def mark_favorites_from_downloads():\n",
    "    with Session(engine) as session:\n",
    "        static_files = {item.name: item for item in os.scandir('../static/media') if item.is_file()}\n",
    "        for item in os.scandir('/mnt/e/Downloads'):\n",
    "            if item.is_file() and item.name in static_files:\n",
    "                media_item = session.exec(select(MediaItem).where(MediaItem.file_name == item.name)).first()\n",
    "                if media_item:\n",
    "                    print(\"Found!\")\n",
    "                    media_item.favorite = True\n",
    "        session.commit()"
   ]
  }
 ],
 "metadata": {
  "kernelspec": {
   "display_name": "base311",
   "language": "python",
   "name": "python3"
  },
  "language_info": {
   "codemirror_mode": {
    "name": "ipython",
    "version": 3
   },
   "file_extension": ".py",
   "mimetype": "text/x-python",
   "name": "python",
   "nbconvert_exporter": "python",
   "pygments_lexer": "ipython3",
   "version": "3.11.9"
  }
 },
 "nbformat": 4,
 "nbformat_minor": 2
}
