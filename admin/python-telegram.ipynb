{
 "cells": [
  {
   "cell_type": "code",
   "execution_count": null,
   "metadata": {},
   "outputs": [],
   "source": [
    "from telegram.client import Telegram\n",
    "from dotenv import load_dotenv\n",
    "import os\n",
    "\n",
    "\n",
    "# JSON schema https://core.telegram.org/schema/json"
   ]
  },
  {
   "cell_type": "code",
   "execution_count": null,
   "metadata": {},
   "outputs": [],
   "source": [
    "# Optional: enable verbose logging. Do not do this lol\n",
    "\n",
    "import logging\n",
    "# logging.root.manager.loggerDict\n",
    "# Create handler\n",
    "\"\"\"\n",
    "handler = logging.StreamHandler()\n",
    "handler.setLevel(logging.DEBUG)\n",
    "formatter = logging.Formatter('%(asctime)s - %(name)s - %(levelname)s - %(message)s')\n",
    "handler.setFormatter(formatter)\n",
    "\n",
    "# Configure loggers\n",
    "for logger_name in ['telegram', 'telegram.utils', 'telegram.tdjson', 'telegram.worker', 'telegram.client']:\n",
    "    logger = logging.getLogger(logger_name)\n",
    "    logger.setLevel(logging.DEBUG)\n",
    "    logger.addHandler(handler)\n",
    "\n",
    "# Optionally, set root logger to DEBUG\n",
    "# logging.getLogger().setLevel(logging.DEBUG)\n",
    "# logging.getLogger().addHandler(handler)\n",
    "\"\"\""
   ]
  },
  {
   "cell_type": "code",
   "execution_count": null,
   "metadata": {},
   "outputs": [],
   "source": [
    "load_dotenv()  # take environment variables from .env.\n",
    "\n",
    "tg = Telegram(\n",
    "    api_id=os.environ['TG_API_ID'],\n",
    "    api_hash=os.environ['TG_API_HASH'],\n",
    "    phone=os.environ['TG_PHONE'],\n",
    "    database_encryption_key=os.environ['TG_DB_KEY'],\n",
    "    files_directory='/tmp/.tdlib_files/'\n",
    ")\n",
    "\n",
    "tg._tdjson.set_log_file_path(os.path.join(os.getcwd() + 'log/tdlib.log'))\n",
    "\n",
    "def new_update_handler(update):\n",
    "    # We want to process only text messages.\n",
    "    print(\"message: \", update)\n",
    "    \"\"\"\n",
    "    message_content = update['message']['content'].get('text', {})\n",
    "    message_text = message_content.get('text', '').lower()\n",
    "    is_outgoing = update['message']['is_outgoing']\n",
    "\n",
    "    if not is_outgoing and message_text == 'ping':\n",
    "        chat_id = update['message']['chat_id']\n",
    "        print(f'Ping has been received from {chat_id}')\n",
    "        tg.send_message(\n",
    "            chat_id=chat_id,\n",
    "            text='pong',\n",
    "        )\n",
    "    \"\"\"\n",
    "\n",
    "tg.add_global_update_handler(new_update_handler)\n",
    "tg.login()\n"
   ]
  },
  {
   "cell_type": "code",
   "execution_count": null,
   "metadata": {},
   "outputs": [],
   "source": [
    "# If this is the first run, the library needs to preload all chats.\n",
    "# Otherwise, the message will not be sent.\n",
    "all_chats = tg.get_chats()\n",
    "\n",
    "\n",
    "# `tdlib` is asynchronous, so `python-telegram` always returns an `AsyncResult` object.\n",
    "# You can receive a result with the `wait` method of this object.\n",
    "all_chats.wait()\n",
    "all_chats.update\n"
   ]
  },
  {
   "cell_type": "code",
   "execution_count": null,
   "metadata": {},
   "outputs": [],
   "source": [
    "# Get info about a chat (This one is \"perception training\")\n",
    "chat_id = -1001265830460\n",
    "chat = tg.get_chat(chat_id)\n",
    "chat.wait()\n",
    "\n",
    "print(chat.update)\n",
    "\n"
   ]
  },
  {
   "cell_type": "code",
   "execution_count": null,
   "metadata": {},
   "outputs": [],
   "source": [
    "# Send a message. This is spammy so please don't run it lol\n",
    "\"\"\"\n",
    "from telegram.text import Spoiler\n",
    "result = tg.send_message(5694771567, Spoiler(\"I'm testing the Telegram API to write some code with Python.\"))\n",
    "result.wait()\n",
    "print(result.update)\n",
    "\"\"\""
   ]
  },
  {
   "cell_type": "code",
   "execution_count": null,
   "metadata": {},
   "outputs": [],
   "source": [
    "all_chats_info = []\n",
    "\n",
    "for chat_id in all_chats.update['chat_ids'][0:10]:\n",
    "    chat = tg.get_chat(chat_id)\n",
    "    chat.wait()\n",
    "    print(f\"{chat_id} - {chat.update['title']}\")\n",
    "    all_chats_info.append(chat.update)"
   ]
  },
  {
   "cell_type": "code",
   "execution_count": null,
   "metadata": {},
   "outputs": [],
   "source": [
    "# Call an arbitrary method.\n",
    "# https://core.telegram.org/tdlib/docs/classtd_1_1td__api_1_1search_chats.html\n",
    "\n",
    "# tg._tdjson._td_set_log_verbosity_level(5)\n",
    "\n",
    "chatSearch = tg.call_method('searchChats', {'query': \"Jeremy\", 'limit': 5})\n",
    "\n",
    "chatSearch\n",
    "\n",
    "\n",
    "chatSearch.wait()\n",
    "chatSearch.update\n",
    "\n",
    "\n",
    "# tg._tdjson._td_set_log_verbosity_level(2)"
   ]
  },
  {
   "cell_type": "code",
   "execution_count": null,
   "metadata": {},
   "outputs": [],
   "source": [
    "recentStix = tg.call_method('getRecentStickers', {'is_attached': False})\n",
    "recentStix.wait()\n",
    "# recentStix.update\n",
    "# Will create a very big object!!"
   ]
  },
  {
   "cell_type": "code",
   "execution_count": null,
   "metadata": {},
   "outputs": [],
   "source": [
    "Buddies = {'Seddel': 76065323, 'Ha\\'l': 5694771567 }"
   ]
  },
  {
   "cell_type": "code",
   "execution_count": null,
   "metadata": {},
   "outputs": [],
   "source": [
    "history = tg.get_chat_history(Buddies['Seddel'], 5)\n",
    "history.wait()\n",
    "history.update\n",
    "\n"
   ]
  },
  {
   "cell_type": "code",
   "execution_count": null,
   "metadata": {},
   "outputs": [],
   "source": [
    "# Most recent message\n",
    "message_to_delete = history.update['messages'][0]['id']\n",
    "\n",
    "\"\"\"\n",
    "deleteMessage = tg.call_method('deleteMessages', {\n",
    "    'chat_id': Buddies['Seddel'],\n",
    "    'message_ids': [133637865472],\n",
    "    'revoke': True\n",
    "})\n",
    "\"\"\"\n",
    "deleteMessage = tg.delete_messages(Buddies['Seddel'], [133637865472], True)\n",
    "deleteMessage.wait()\n",
    "\n",
    "print(deleteMessage.update)\n",
    "\n",
    "\n"
   ]
  },
  {
   "cell_type": "code",
   "execution_count": null,
   "metadata": {},
   "outputs": [],
   "source": [
    "# from telegram.text import PlainText\n",
    "\n",
    "tg._tdjson._td_set_log_verbosity_level(5)\n",
    "editMessage = tg.call_method('editMessageText', {\n",
    "    'chat_id': 76065323,\n",
    "    'message_id': 133650448384,\n",
    "    'reply_markup': None,\n",
    "    'input_message_content': {\n",
    "        '@type': 'inputMessageText',\n",
    "        'text': {\n",
    "            '@type': 'formattedText',\n",
    "            \"text\": \"Maybe it's a skill issue.\",\n",
    "            'entities': []\n",
    "        }\n",
    "    }\n",
    "})\n",
    "\n",
    "editMessage.wait()\n",
    "print(editMessage.update)\n",
    "\n",
    "\n",
    "tg._tdjson._td_set_log_verbosity_level(2)"
   ]
  },
  {
   "cell_type": "code",
   "execution_count": null,
   "metadata": {},
   "outputs": [],
   "source": [
    "tg.stop()  # You must call `stop` at the end of the script."
   ]
  }
 ],
 "metadata": {
  "kernelspec": {
   "display_name": "venv",
   "language": "python",
   "name": "python3"
  },
  "language_info": {
   "codemirror_mode": {
    "name": "ipython",
    "version": 3
   },
   "file_extension": ".py",
   "mimetype": "text/x-python",
   "name": "python",
   "nbconvert_exporter": "python",
   "pygments_lexer": "ipython3",
   "version": "3.11.7"
  }
 },
 "nbformat": 4,
 "nbformat_minor": 2
}
